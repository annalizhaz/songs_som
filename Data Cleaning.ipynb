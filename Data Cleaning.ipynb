{
 "cells": [
  {
   "cell_type": "code",
   "execution_count": 1,
   "metadata": {
    "collapsed": false
   },
   "outputs": [],
   "source": [
    "import clean_data as cl"
   ]
  },
  {
   "cell_type": "code",
   "execution_count": 2,
   "metadata": {
    "collapsed": false
   },
   "outputs": [],
   "source": [
    "use_col_alpha = [\"C\", \"F\", \"I\", \"J\", \"K\", \"L\", \"M\", \"O\", \"P\", \"Q\", \"R\", \\\n",
    "                 \"Y\", \"AA\", \"AB\", \"AC\", \"AE\", \"AF\", \"AG\", \"AH\"]"
   ]
  },
  {
   "cell_type": "code",
   "execution_count": 3,
   "metadata": {
    "collapsed": false
   },
   "outputs": [],
   "source": [
    "col = []\n",
    "for i in use_col_alpha:\n",
    "    num = cl.column_to_number(i)\n",
    "    col.append(num)"
   ]
  },
  {
   "cell_type": "code",
   "execution_count": null,
   "metadata": {
    "collapsed": false
   },
   "outputs": [],
   "source": [
    "col"
   ]
  },
  {
   "cell_type": "code",
   "execution_count": null,
   "metadata": {
    "collapsed": true
   },
   "outputs": [],
   "source": [
    "test_file_list = [\"test_data/a.csv\", \"test_data/b.csv\", \"test_data/c.csv\"]"
   ]
  },
  {
   "cell_type": "code",
   "execution_count": 4,
   "metadata": {
    "collapsed": false
   },
   "outputs": [],
   "source": [
    "files = []\n",
    "alpha = \"abcdefghijklmnopqrstuvwxyz\"\n",
    "for i in range(26):\n",
    "    f = \"data/\" + alpha[i] + \".csv\"\n",
    "    files.append(f)\n",
    "    "
   ]
  },
  {
   "cell_type": "code",
   "execution_count": 5,
   "metadata": {
    "collapsed": false
   },
   "outputs": [
    {
     "name": "stdout",
     "output_type": "stream",
     "text": [
      "[0, 4841, 9667, 14455, 19380, 24207, 29249, 33942, 38899, 43764, 48627, 53403, 58277, 63318, 68279, 73142, 78195, 83065, 88083, 93040, 97813, 102680, 107631, 112500, 117335, 122234, 127045]\n",
      "127045\n"
     ]
    }
   ],
   "source": [
    "data, labels = cl.clean(files, \"clean_data/full_2.csv\", col, folder=\"clean_data/\")"
   ]
  },
  {
   "cell_type": "code",
   "execution_count": null,
   "metadata": {
    "collapsed": false
   },
   "outputs": [],
   "source": [
    "labels"
   ]
  },
  {
   "cell_type": "code",
   "execution_count": 6,
   "metadata": {
    "collapsed": false
   },
   "outputs": [],
   "source": [
    "with open(\"clean_data/key.txt\", \"w\") as text_file:\n",
    "    for line in labels:\n",
    "        str_line = [str(line[0])] + list(line[1:])\n",
    "        row = \" \".join(str_line)\n",
    "        text_file.write(row+\"\\n\")"
   ]
  },
  {
   "cell_type": "code",
   "execution_count": null,
   "metadata": {
    "collapsed": true
   },
   "outputs": [],
   "source": []
  }
 ],
 "metadata": {
  "kernelspec": {
   "display_name": "Python 2",
   "language": "python",
   "name": "python2"
  },
  "language_info": {
   "codemirror_mode": {
    "name": "ipython",
    "version": 2
   },
   "file_extension": ".py",
   "mimetype": "text/x-python",
   "name": "python",
   "nbconvert_exporter": "python",
   "pygments_lexer": "ipython2",
   "version": "2.7.11"
  }
 },
 "nbformat": 4,
 "nbformat_minor": 0
}
