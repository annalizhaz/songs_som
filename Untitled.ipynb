{
 "cells": [
  {
   "cell_type": "code",
   "execution_count": 1,
   "metadata": {
    "collapsed": false
   },
   "outputs": [],
   "source": [
    "import clean_data as cl"
   ]
  },
  {
   "cell_type": "code",
   "execution_count": 2,
   "metadata": {
    "collapsed": true
   },
   "outputs": [],
   "source": [
    "use_col_full = [2, 5, 7, 8, 9, 10, 11, 12, 14, 15, 16, 17, 20, 22, 23, 24, 25, 26, 27, 28, 29, 30, 31, 32, 33, 34]"
   ]
  },
  {
   "cell_type": "code",
   "execution_count": 3,
   "metadata": {
    "collapsed": true
   },
   "outputs": [],
   "source": [
    "use_col_small = [2, 5, 8]"
   ]
  },
  {
   "cell_type": "code",
   "execution_count": 4,
   "metadata": {
    "collapsed": true
   },
   "outputs": [],
   "source": [
    "file_list = [\"test_data/a.csv\", \"test_data/b.csv\", \"test_data/c.csv\"]"
   ]
  },
  {
   "cell_type": "code",
   "execution_count": 5,
   "metadata": {
    "collapsed": false
   },
   "outputs": [
    {
     "name": "stdout",
     "output_type": "stream",
     "text": [
      "{8: {'max': 3007.73832, 'min': 0.54812}, 2: {'max': 2010.0, 'min': 0.0}, 5: {'max': 1.0825025567261237, 'min': 0.0}}\n",
      "{8: {'max': 3020.87791, 'min': 0.54812}, 2: {'max': 2010.0, 'min': 0.0}, 5: {'max': 1.0825025567261237, 'min': 0.0}}\n",
      "{8: {'max': 3020.87791, 'min': 0.54812}, 2: {'max': 2011.0, 'min': 0.0}, 5: {'max': 1.0825025567261237, 'min': 0.0}}\n",
      "347928\n"
     ]
    }
   ],
   "source": [
    "data = cl.clean(file_list, \"test4/all_data.csv\", use_col_small, folder=\"test4/\")"
   ]
  },
  {
   "cell_type": "code",
   "execution_count": null,
   "metadata": {
    "collapsed": false
   },
   "outputs": [],
   "source": [
    "data"
   ]
  }
 ],
 "metadata": {
  "kernelspec": {
   "display_name": "Python 2",
   "language": "python",
   "name": "python2"
  },
  "language_info": {
   "codemirror_mode": {
    "name": "ipython",
    "version": 2
   },
   "file_extension": ".py",
   "mimetype": "text/x-python",
   "name": "python",
   "nbconvert_exporter": "python",
   "pygments_lexer": "ipython2",
   "version": "2.7.11"
  }
 },
 "nbformat": 4,
 "nbformat_minor": 0
}
